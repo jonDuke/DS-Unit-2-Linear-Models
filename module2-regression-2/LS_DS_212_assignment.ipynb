{
  "nbformat": 4,
  "nbformat_minor": 0,
  "metadata": {
    "kernelspec": {
      "display_name": "Python 3",
      "language": "python",
      "name": "python3"
    },
    "language_info": {
      "codemirror_mode": {
        "name": "ipython",
        "version": 3
      },
      "file_extension": ".py",
      "mimetype": "text/x-python",
      "name": "python",
      "nbconvert_exporter": "python",
      "pygments_lexer": "ipython3",
      "version": "3.7.3"
    },
    "colab": {
      "name": "LS_DS_212_assignment.ipynb",
      "provenance": [],
      "toc_visible": true
    }
  },
  "cells": [
    {
      "cell_type": "markdown",
      "metadata": {
        "id": "FdzX-5OCpr8w",
        "colab_type": "text"
      },
      "source": [
        "Lambda School Data Science\n",
        "\n",
        "*Unit 2, Sprint 1, Module 2*\n",
        "\n",
        "---"
      ]
    },
    {
      "cell_type": "markdown",
      "metadata": {
        "colab_type": "text",
        "id": "7IXUfiQ2UKj6"
      },
      "source": [
        "# Regression 2\n",
        "\n",
        "## Assignment\n",
        "\n",
        "You'll continue to **predict how much it costs to rent an apartment in NYC,** using the dataset from renthop.com.\n",
        "\n",
        "- [x] Do train/test split. Use data from April & May 2016 to train. Use data from June 2016 to test.\n",
        "- [x] Engineer at least two new features. (See below for explanation & ideas.)\n",
        "- [x] Fit a linear regression model with at least two features.\n",
        "- [x] Get the model's coefficients and intercept.\n",
        "- [x] Get regression metrics RMSE, MAE, and $R^2$, for both the train and test data.\n",
        "- [x] What's the best test MAE you can get? Share your score and features used with your cohort on Slack!\n",
        "- [x] As always, commit your notebook to your fork of the GitHub repo.\n",
        "\n",
        "\n",
        "#### [Feature Engineering](https://en.wikipedia.org/wiki/Feature_engineering)\n",
        "\n",
        "> \"Some machine learning projects succeed and some fail. What makes the difference? Easily the most important factor is the features used.\" — Pedro Domingos, [\"A Few Useful Things to Know about Machine Learning\"](https://homes.cs.washington.edu/~pedrod/papers/cacm12.pdf)\n",
        "\n",
        "> \"Coming up with features is difficult, time-consuming, requires expert knowledge. 'Applied machine learning' is basically feature engineering.\" — Andrew Ng, [Machine Learning and AI via Brain simulations](https://forum.stanford.edu/events/2011/2011slides/plenary/2011plenaryNg.pdf) \n",
        "\n",
        "> Feature engineering is the process of using domain knowledge of the data to create features that make machine learning algorithms work. \n",
        "\n",
        "#### Feature Ideas\n",
        "- Does the apartment have a description?\n",
        "- How long is the description?\n",
        "- How many total perks does each apartment have?\n",
        "- Are cats _or_ dogs allowed?\n",
        "- Are cats _and_ dogs allowed?\n",
        "- Total number of rooms (beds + baths)\n",
        "- Ratio of beds to baths\n",
        "- What's the neighborhood, based on address or latitude & longitude?\n",
        "\n",
        "## Stretch Goals\n",
        "- [ ] If you want more math, skim [_An Introduction to Statistical Learning_](http://faculty.marshall.usc.edu/gareth-james/ISL/ISLR%20Seventh%20Printing.pdf),  Chapter 3.1, Simple Linear Regression, & Chapter 3.2, Multiple Linear Regression\n",
        "- [ ] If you want more introduction, watch [Brandon Foltz, Statistics 101: Simple Linear Regression](https://www.youtube.com/watch?v=ZkjP5RJLQF4)\n",
        "(20 minutes, over 1 million views)\n",
        "- [ ] Add your own stretch goal(s) !"
      ]
    },
    {
      "cell_type": "code",
      "metadata": {
        "colab_type": "code",
        "id": "o9eSnDYhUGD7",
        "colab": {}
      },
      "source": [
        "%%capture\n",
        "import sys\n",
        "\n",
        "# If you're on Colab:\n",
        "if 'google.colab' in sys.modules:\n",
        "    DATA_PATH = 'https://raw.githubusercontent.com/LambdaSchool/DS-Unit-2-Applied-Modeling/master/data/'\n",
        "    !pip install category_encoders==2.*\n",
        "\n",
        "# If you're working locally:\n",
        "else:\n",
        "    DATA_PATH = '../data/'\n",
        "    \n",
        "# Ignore this Numpy warning when using Plotly Express:\n",
        "# FutureWarning: Method .ptp is deprecated and will be removed in a future version. Use numpy.ptp instead.\n",
        "import warnings\n",
        "warnings.filterwarnings(action='ignore', category=FutureWarning, module='numpy')"
      ],
      "execution_count": 0,
      "outputs": []
    },
    {
      "cell_type": "code",
      "metadata": {
        "colab_type": "code",
        "id": "cvrw-T3bZOuW",
        "colab": {}
      },
      "source": [
        "import numpy as np\n",
        "import pandas as pd\n",
        "\n",
        "# Read New York City apartment rental listing data\n",
        "df = pd.read_csv(DATA_PATH+'apartments/renthop-nyc.csv')\n",
        "assert df.shape == (49352, 34)\n",
        "\n",
        "# Remove the most extreme 1% prices,\n",
        "# the most extreme .1% latitudes, &\n",
        "# the most extreme .1% longitudes\n",
        "df = df[(df['price'] >= np.percentile(df['price'], 0.5)) & \n",
        "        (df['price'] <= np.percentile(df['price'], 99.5)) & \n",
        "        (df['latitude'] >= np.percentile(df['latitude'], 0.05)) & \n",
        "        (df['latitude'] < np.percentile(df['latitude'], 99.95)) &\n",
        "        (df['longitude'] >= np.percentile(df['longitude'], 0.05)) & \n",
        "        (df['longitude'] <= np.percentile(df['longitude'], 99.95))]\n",
        "\n",
        "# the missing index caused me problems later on\n",
        "df = df.reset_index(drop=True)"
      ],
      "execution_count": 0,
      "outputs": []
    },
    {
      "cell_type": "code",
      "metadata": {
        "id": "aNkHgXrGq0mI",
        "colab_type": "code",
        "colab": {
          "base_uri": "https://localhost:8080/",
          "height": 530
        },
        "outputId": "cf15ad75-a148-4ce2-871d-fb1f59ae2dcd"
      },
      "source": [
        "print(df.shape)\n",
        "df.head()"
      ],
      "execution_count": 6,
      "outputs": [
        {
          "output_type": "stream",
          "text": [
            "(48817, 34)\n"
          ],
          "name": "stdout"
        },
        {
          "output_type": "execute_result",
          "data": {
            "text/html": [
              "<div>\n",
              "<style scoped>\n",
              "    .dataframe tbody tr th:only-of-type {\n",
              "        vertical-align: middle;\n",
              "    }\n",
              "\n",
              "    .dataframe tbody tr th {\n",
              "        vertical-align: top;\n",
              "    }\n",
              "\n",
              "    .dataframe thead th {\n",
              "        text-align: right;\n",
              "    }\n",
              "</style>\n",
              "<table border=\"1\" class=\"dataframe\">\n",
              "  <thead>\n",
              "    <tr style=\"text-align: right;\">\n",
              "      <th></th>\n",
              "      <th>bathrooms</th>\n",
              "      <th>bedrooms</th>\n",
              "      <th>created</th>\n",
              "      <th>description</th>\n",
              "      <th>display_address</th>\n",
              "      <th>latitude</th>\n",
              "      <th>longitude</th>\n",
              "      <th>price</th>\n",
              "      <th>street_address</th>\n",
              "      <th>interest_level</th>\n",
              "      <th>elevator</th>\n",
              "      <th>cats_allowed</th>\n",
              "      <th>hardwood_floors</th>\n",
              "      <th>dogs_allowed</th>\n",
              "      <th>doorman</th>\n",
              "      <th>dishwasher</th>\n",
              "      <th>no_fee</th>\n",
              "      <th>laundry_in_building</th>\n",
              "      <th>fitness_center</th>\n",
              "      <th>pre-war</th>\n",
              "      <th>laundry_in_unit</th>\n",
              "      <th>roof_deck</th>\n",
              "      <th>outdoor_space</th>\n",
              "      <th>dining_room</th>\n",
              "      <th>high_speed_internet</th>\n",
              "      <th>balcony</th>\n",
              "      <th>swimming_pool</th>\n",
              "      <th>new_construction</th>\n",
              "      <th>terrace</th>\n",
              "      <th>exclusive</th>\n",
              "      <th>loft</th>\n",
              "      <th>garden_patio</th>\n",
              "      <th>wheelchair_access</th>\n",
              "      <th>common_outdoor_space</th>\n",
              "    </tr>\n",
              "  </thead>\n",
              "  <tbody>\n",
              "    <tr>\n",
              "      <th>0</th>\n",
              "      <td>1.5</td>\n",
              "      <td>3</td>\n",
              "      <td>2016-06-24 07:54:24</td>\n",
              "      <td>A Brand New 3 Bedroom 1.5 bath ApartmentEnjoy ...</td>\n",
              "      <td>Metropolitan Avenue</td>\n",
              "      <td>40.7145</td>\n",
              "      <td>-73.9425</td>\n",
              "      <td>3000</td>\n",
              "      <td>792 Metropolitan Avenue</td>\n",
              "      <td>medium</td>\n",
              "      <td>0</td>\n",
              "      <td>0</td>\n",
              "      <td>0</td>\n",
              "      <td>0</td>\n",
              "      <td>0</td>\n",
              "      <td>0</td>\n",
              "      <td>0</td>\n",
              "      <td>0</td>\n",
              "      <td>0</td>\n",
              "      <td>0</td>\n",
              "      <td>0</td>\n",
              "      <td>0</td>\n",
              "      <td>0</td>\n",
              "      <td>0</td>\n",
              "      <td>0</td>\n",
              "      <td>0</td>\n",
              "      <td>0</td>\n",
              "      <td>0</td>\n",
              "      <td>0</td>\n",
              "      <td>0</td>\n",
              "      <td>0</td>\n",
              "      <td>0</td>\n",
              "      <td>0</td>\n",
              "      <td>0</td>\n",
              "    </tr>\n",
              "    <tr>\n",
              "      <th>1</th>\n",
              "      <td>1.0</td>\n",
              "      <td>2</td>\n",
              "      <td>2016-06-12 12:19:27</td>\n",
              "      <td></td>\n",
              "      <td>Columbus Avenue</td>\n",
              "      <td>40.7947</td>\n",
              "      <td>-73.9667</td>\n",
              "      <td>5465</td>\n",
              "      <td>808 Columbus Avenue</td>\n",
              "      <td>low</td>\n",
              "      <td>1</td>\n",
              "      <td>1</td>\n",
              "      <td>0</td>\n",
              "      <td>1</td>\n",
              "      <td>1</td>\n",
              "      <td>0</td>\n",
              "      <td>0</td>\n",
              "      <td>0</td>\n",
              "      <td>1</td>\n",
              "      <td>0</td>\n",
              "      <td>0</td>\n",
              "      <td>0</td>\n",
              "      <td>0</td>\n",
              "      <td>0</td>\n",
              "      <td>0</td>\n",
              "      <td>0</td>\n",
              "      <td>0</td>\n",
              "      <td>0</td>\n",
              "      <td>0</td>\n",
              "      <td>0</td>\n",
              "      <td>0</td>\n",
              "      <td>0</td>\n",
              "      <td>0</td>\n",
              "      <td>0</td>\n",
              "    </tr>\n",
              "    <tr>\n",
              "      <th>2</th>\n",
              "      <td>1.0</td>\n",
              "      <td>1</td>\n",
              "      <td>2016-04-17 03:26:41</td>\n",
              "      <td>Top Top West Village location, beautiful Pre-w...</td>\n",
              "      <td>W 13 Street</td>\n",
              "      <td>40.7388</td>\n",
              "      <td>-74.0018</td>\n",
              "      <td>2850</td>\n",
              "      <td>241 W 13 Street</td>\n",
              "      <td>high</td>\n",
              "      <td>0</td>\n",
              "      <td>0</td>\n",
              "      <td>1</td>\n",
              "      <td>0</td>\n",
              "      <td>0</td>\n",
              "      <td>1</td>\n",
              "      <td>0</td>\n",
              "      <td>1</td>\n",
              "      <td>0</td>\n",
              "      <td>0</td>\n",
              "      <td>0</td>\n",
              "      <td>0</td>\n",
              "      <td>0</td>\n",
              "      <td>0</td>\n",
              "      <td>0</td>\n",
              "      <td>0</td>\n",
              "      <td>0</td>\n",
              "      <td>0</td>\n",
              "      <td>0</td>\n",
              "      <td>0</td>\n",
              "      <td>0</td>\n",
              "      <td>0</td>\n",
              "      <td>0</td>\n",
              "      <td>0</td>\n",
              "    </tr>\n",
              "    <tr>\n",
              "      <th>3</th>\n",
              "      <td>1.0</td>\n",
              "      <td>1</td>\n",
              "      <td>2016-04-18 02:22:02</td>\n",
              "      <td>Building Amenities - Garage - Garden - fitness...</td>\n",
              "      <td>East 49th Street</td>\n",
              "      <td>40.7539</td>\n",
              "      <td>-73.9677</td>\n",
              "      <td>3275</td>\n",
              "      <td>333 East 49th Street</td>\n",
              "      <td>low</td>\n",
              "      <td>0</td>\n",
              "      <td>0</td>\n",
              "      <td>1</td>\n",
              "      <td>0</td>\n",
              "      <td>0</td>\n",
              "      <td>0</td>\n",
              "      <td>1</td>\n",
              "      <td>0</td>\n",
              "      <td>0</td>\n",
              "      <td>0</td>\n",
              "      <td>0</td>\n",
              "      <td>0</td>\n",
              "      <td>0</td>\n",
              "      <td>0</td>\n",
              "      <td>0</td>\n",
              "      <td>0</td>\n",
              "      <td>0</td>\n",
              "      <td>0</td>\n",
              "      <td>0</td>\n",
              "      <td>0</td>\n",
              "      <td>0</td>\n",
              "      <td>0</td>\n",
              "      <td>0</td>\n",
              "      <td>0</td>\n",
              "    </tr>\n",
              "    <tr>\n",
              "      <th>4</th>\n",
              "      <td>1.0</td>\n",
              "      <td>4</td>\n",
              "      <td>2016-04-28 01:32:41</td>\n",
              "      <td>Beautifully renovated 3 bedroom flex 4 bedroom...</td>\n",
              "      <td>West 143rd Street</td>\n",
              "      <td>40.8241</td>\n",
              "      <td>-73.9493</td>\n",
              "      <td>3350</td>\n",
              "      <td>500 West 143rd Street</td>\n",
              "      <td>low</td>\n",
              "      <td>0</td>\n",
              "      <td>0</td>\n",
              "      <td>0</td>\n",
              "      <td>0</td>\n",
              "      <td>0</td>\n",
              "      <td>0</td>\n",
              "      <td>0</td>\n",
              "      <td>0</td>\n",
              "      <td>0</td>\n",
              "      <td>1</td>\n",
              "      <td>0</td>\n",
              "      <td>0</td>\n",
              "      <td>0</td>\n",
              "      <td>0</td>\n",
              "      <td>0</td>\n",
              "      <td>0</td>\n",
              "      <td>0</td>\n",
              "      <td>0</td>\n",
              "      <td>0</td>\n",
              "      <td>0</td>\n",
              "      <td>0</td>\n",
              "      <td>0</td>\n",
              "      <td>0</td>\n",
              "      <td>0</td>\n",
              "    </tr>\n",
              "  </tbody>\n",
              "</table>\n",
              "</div>"
            ],
            "text/plain": [
              "   bathrooms  bedrooms  ... wheelchair_access common_outdoor_space\n",
              "0        1.5         3  ...                 0                    0\n",
              "1        1.0         2  ...                 0                    0\n",
              "2        1.0         1  ...                 0                    0\n",
              "3        1.0         1  ...                 0                    0\n",
              "4        1.0         4  ...                 0                    0\n",
              "\n",
              "[5 rows x 34 columns]"
            ]
          },
          "metadata": {
            "tags": []
          },
          "execution_count": 6
        }
      ]
    },
    {
      "cell_type": "markdown",
      "metadata": {
        "id": "pek57frH2NFK",
        "colab_type": "text"
      },
      "source": [
        "### Engineer at least two new features"
      ]
    },
    {
      "cell_type": "code",
      "metadata": {
        "id": "waohLjO7rnQR",
        "colab_type": "code",
        "colab": {
          "base_uri": "https://localhost:8080/",
          "height": 85
        },
        "outputId": "93c8cc02-c1b1-42ed-e9cd-69f6779ff111"
      },
      "source": [
        "# Encode interest level\n",
        "df['interest_value'] = df['interest_level'].map({'low':1, 'medium':2, 'high':3})\n",
        "df['interest_value'].value_counts(dropna=False)"
      ],
      "execution_count": 7,
      "outputs": [
        {
          "output_type": "execute_result",
          "data": {
            "text/plain": [
              "1    33946\n",
              "2    11181\n",
              "3     3690\n",
              "Name: interest_value, dtype: int64"
            ]
          },
          "metadata": {
            "tags": []
          },
          "execution_count": 7
        }
      ]
    },
    {
      "cell_type": "code",
      "metadata": {
        "id": "s7sA7pzp2jSV",
        "colab_type": "code",
        "colab": {
          "base_uri": "https://localhost:8080/",
          "height": 68
        },
        "outputId": "707447ba-d24f-4a12-8e63-f91e86d8a829"
      },
      "source": [
        "# Add pets allowed column (cats *or* dogs)\n",
        "df['pets_allowed'] = (df['dogs_allowed'] | df['cats_allowed']) # bitwise or\n",
        "df['pets_allowed'].value_counts()"
      ],
      "execution_count": 8,
      "outputs": [
        {
          "output_type": "execute_result",
          "data": {
            "text/plain": [
              "0    25433\n",
              "1    23384\n",
              "Name: pets_allowed, dtype: int64"
            ]
          },
          "metadata": {
            "tags": []
          },
          "execution_count": 8
        }
      ]
    },
    {
      "cell_type": "code",
      "metadata": {
        "id": "b3CV5tZg5V_E",
        "colab_type": "code",
        "colab": {
          "base_uri": "https://localhost:8080/",
          "height": 170
        },
        "outputId": "c80cf6b8-766b-465c-f651-ce282a9c7593"
      },
      "source": [
        "# Add num_features column\n",
        "# Adds most of the boolean columns together\n",
        "df['num_features'] = (df['elevator'] + df['hardwood_floors'] + df['doorman'] +\n",
        "                      df['dishwasher'] + df['no_fee'] +\n",
        "                      df['laundry_in_building'] + df['fitness_center'] +\n",
        "                      df['laundry_in_unit'] + df['roof_deck'] + \n",
        "                      df['outdoor_space'] + df['dining_room'] +\n",
        "                      df['high_speed_internet'] + df['balcony'] +\n",
        "                      df['swimming_pool'] + df['new_construction'] + \n",
        "                      df['terrace'] + df['exclusive'] + df['loft'] +\n",
        "                      df['garden_patio'] + df['wheelchair_access'] +\n",
        "                      df['common_outdoor_space'])\n",
        "df['num_features'].describe()"
      ],
      "execution_count": 9,
      "outputs": [
        {
          "output_type": "execute_result",
          "data": {
            "text/plain": [
              "count    48817.000000\n",
              "mean         3.561034\n",
              "std          3.226059\n",
              "min          0.000000\n",
              "25%          1.000000\n",
              "50%          3.000000\n",
              "75%          6.000000\n",
              "max         17.000000\n",
              "Name: num_features, dtype: float64"
            ]
          },
          "metadata": {
            "tags": []
          },
          "execution_count": 9
        }
      ]
    },
    {
      "cell_type": "code",
      "metadata": {
        "id": "WLdxpvlNq-xV",
        "colab_type": "code",
        "colab": {
          "base_uri": "https://localhost:8080/",
          "height": 136
        },
        "outputId": "14c040ae-659c-4053-d52d-b563f9f0d5b9"
      },
      "source": [
        "# Convert the created column to a datetime object\n",
        "df['created'] = pd.to_datetime(df['created'])\n",
        "df['created'].describe()"
      ],
      "execution_count": 10,
      "outputs": [
        {
          "output_type": "execute_result",
          "data": {
            "text/plain": [
              "count                   48817\n",
              "unique                  48148\n",
              "top       2016-05-14 01:11:03\n",
              "freq                        3\n",
              "first     2016-04-01 22:12:41\n",
              "last      2016-06-29 21:41:47\n",
              "Name: created, dtype: object"
            ]
          },
          "metadata": {
            "tags": []
          },
          "execution_count": 10
        }
      ]
    },
    {
      "cell_type": "code",
      "metadata": {
        "id": "NE2nFgZd53s0",
        "colab_type": "code",
        "colab": {
          "base_uri": "https://localhost:8080/",
          "height": 204
        },
        "outputId": "98b91c37-feb2-4147-ee9b-5003332a35e5"
      },
      "source": [
        "# Simplify the dataframe into columns I might use\n",
        "data = df[['created', 'price', 'latitude', 'longitude', 'bedrooms', 'bathrooms', 'interest_value', 'pets_allowed', 'num_features']]\n",
        "data.head()"
      ],
      "execution_count": 11,
      "outputs": [
        {
          "output_type": "execute_result",
          "data": {
            "text/html": [
              "<div>\n",
              "<style scoped>\n",
              "    .dataframe tbody tr th:only-of-type {\n",
              "        vertical-align: middle;\n",
              "    }\n",
              "\n",
              "    .dataframe tbody tr th {\n",
              "        vertical-align: top;\n",
              "    }\n",
              "\n",
              "    .dataframe thead th {\n",
              "        text-align: right;\n",
              "    }\n",
              "</style>\n",
              "<table border=\"1\" class=\"dataframe\">\n",
              "  <thead>\n",
              "    <tr style=\"text-align: right;\">\n",
              "      <th></th>\n",
              "      <th>created</th>\n",
              "      <th>price</th>\n",
              "      <th>latitude</th>\n",
              "      <th>longitude</th>\n",
              "      <th>bedrooms</th>\n",
              "      <th>bathrooms</th>\n",
              "      <th>interest_value</th>\n",
              "      <th>pets_allowed</th>\n",
              "      <th>num_features</th>\n",
              "    </tr>\n",
              "  </thead>\n",
              "  <tbody>\n",
              "    <tr>\n",
              "      <th>0</th>\n",
              "      <td>2016-06-24 07:54:24</td>\n",
              "      <td>3000</td>\n",
              "      <td>40.7145</td>\n",
              "      <td>-73.9425</td>\n",
              "      <td>3</td>\n",
              "      <td>1.5</td>\n",
              "      <td>2</td>\n",
              "      <td>0</td>\n",
              "      <td>0</td>\n",
              "    </tr>\n",
              "    <tr>\n",
              "      <th>1</th>\n",
              "      <td>2016-06-12 12:19:27</td>\n",
              "      <td>5465</td>\n",
              "      <td>40.7947</td>\n",
              "      <td>-73.9667</td>\n",
              "      <td>2</td>\n",
              "      <td>1.0</td>\n",
              "      <td>1</td>\n",
              "      <td>1</td>\n",
              "      <td>3</td>\n",
              "    </tr>\n",
              "    <tr>\n",
              "      <th>2</th>\n",
              "      <td>2016-04-17 03:26:41</td>\n",
              "      <td>2850</td>\n",
              "      <td>40.7388</td>\n",
              "      <td>-74.0018</td>\n",
              "      <td>1</td>\n",
              "      <td>1.0</td>\n",
              "      <td>3</td>\n",
              "      <td>0</td>\n",
              "      <td>3</td>\n",
              "    </tr>\n",
              "    <tr>\n",
              "      <th>3</th>\n",
              "      <td>2016-04-18 02:22:02</td>\n",
              "      <td>3275</td>\n",
              "      <td>40.7539</td>\n",
              "      <td>-73.9677</td>\n",
              "      <td>1</td>\n",
              "      <td>1.0</td>\n",
              "      <td>1</td>\n",
              "      <td>0</td>\n",
              "      <td>2</td>\n",
              "    </tr>\n",
              "    <tr>\n",
              "      <th>4</th>\n",
              "      <td>2016-04-28 01:32:41</td>\n",
              "      <td>3350</td>\n",
              "      <td>40.8241</td>\n",
              "      <td>-73.9493</td>\n",
              "      <td>4</td>\n",
              "      <td>1.0</td>\n",
              "      <td>1</td>\n",
              "      <td>0</td>\n",
              "      <td>0</td>\n",
              "    </tr>\n",
              "  </tbody>\n",
              "</table>\n",
              "</div>"
            ],
            "text/plain": [
              "              created  price  ...  pets_allowed  num_features\n",
              "0 2016-06-24 07:54:24   3000  ...             0             0\n",
              "1 2016-06-12 12:19:27   5465  ...             1             3\n",
              "2 2016-04-17 03:26:41   2850  ...             0             3\n",
              "3 2016-04-18 02:22:02   3275  ...             0             2\n",
              "4 2016-04-28 01:32:41   3350  ...             0             0\n",
              "\n",
              "[5 rows x 9 columns]"
            ]
          },
          "metadata": {
            "tags": []
          },
          "execution_count": 11
        }
      ]
    },
    {
      "cell_type": "markdown",
      "metadata": {
        "id": "BP41S-N_7KxY",
        "colab_type": "text"
      },
      "source": [
        "### Do train/test split. Use data from April & May 2016 to train. Use data from June 2016 to test"
      ]
    },
    {
      "cell_type": "code",
      "metadata": {
        "id": "Udv_Ribe6sDf",
        "colab_type": "code",
        "colab": {}
      },
      "source": [
        "# cut train and test by date\n",
        "cutoff = pd.to_datetime('June 1 2016')\n",
        "train = data[data['created'] < cutoff]\n",
        "test = data[data['created'] >= cutoff]"
      ],
      "execution_count": 0,
      "outputs": []
    },
    {
      "cell_type": "code",
      "metadata": {
        "id": "cEukU05C7PAW",
        "colab_type": "code",
        "colab": {
          "base_uri": "https://localhost:8080/",
          "height": 221
        },
        "outputId": "40f46c9a-febb-47d0-9511-5405ba3deb4e"
      },
      "source": [
        "print(train.shape)\n",
        "train.head()"
      ],
      "execution_count": 13,
      "outputs": [
        {
          "output_type": "stream",
          "text": [
            "(31844, 9)\n"
          ],
          "name": "stdout"
        },
        {
          "output_type": "execute_result",
          "data": {
            "text/html": [
              "<div>\n",
              "<style scoped>\n",
              "    .dataframe tbody tr th:only-of-type {\n",
              "        vertical-align: middle;\n",
              "    }\n",
              "\n",
              "    .dataframe tbody tr th {\n",
              "        vertical-align: top;\n",
              "    }\n",
              "\n",
              "    .dataframe thead th {\n",
              "        text-align: right;\n",
              "    }\n",
              "</style>\n",
              "<table border=\"1\" class=\"dataframe\">\n",
              "  <thead>\n",
              "    <tr style=\"text-align: right;\">\n",
              "      <th></th>\n",
              "      <th>created</th>\n",
              "      <th>price</th>\n",
              "      <th>latitude</th>\n",
              "      <th>longitude</th>\n",
              "      <th>bedrooms</th>\n",
              "      <th>bathrooms</th>\n",
              "      <th>interest_value</th>\n",
              "      <th>pets_allowed</th>\n",
              "      <th>num_features</th>\n",
              "    </tr>\n",
              "  </thead>\n",
              "  <tbody>\n",
              "    <tr>\n",
              "      <th>2</th>\n",
              "      <td>2016-04-17 03:26:41</td>\n",
              "      <td>2850</td>\n",
              "      <td>40.7388</td>\n",
              "      <td>-74.0018</td>\n",
              "      <td>1</td>\n",
              "      <td>1.0</td>\n",
              "      <td>3</td>\n",
              "      <td>0</td>\n",
              "      <td>3</td>\n",
              "    </tr>\n",
              "    <tr>\n",
              "      <th>3</th>\n",
              "      <td>2016-04-18 02:22:02</td>\n",
              "      <td>3275</td>\n",
              "      <td>40.7539</td>\n",
              "      <td>-73.9677</td>\n",
              "      <td>1</td>\n",
              "      <td>1.0</td>\n",
              "      <td>1</td>\n",
              "      <td>0</td>\n",
              "      <td>2</td>\n",
              "    </tr>\n",
              "    <tr>\n",
              "      <th>4</th>\n",
              "      <td>2016-04-28 01:32:41</td>\n",
              "      <td>3350</td>\n",
              "      <td>40.8241</td>\n",
              "      <td>-73.9493</td>\n",
              "      <td>4</td>\n",
              "      <td>1.0</td>\n",
              "      <td>1</td>\n",
              "      <td>0</td>\n",
              "      <td>0</td>\n",
              "    </tr>\n",
              "    <tr>\n",
              "      <th>5</th>\n",
              "      <td>2016-04-19 04:24:47</td>\n",
              "      <td>7995</td>\n",
              "      <td>40.7429</td>\n",
              "      <td>-74.0028</td>\n",
              "      <td>4</td>\n",
              "      <td>2.0</td>\n",
              "      <td>2</td>\n",
              "      <td>0</td>\n",
              "      <td>0</td>\n",
              "    </tr>\n",
              "    <tr>\n",
              "      <th>6</th>\n",
              "      <td>2016-04-27 03:19:56</td>\n",
              "      <td>3600</td>\n",
              "      <td>40.8012</td>\n",
              "      <td>-73.9660</td>\n",
              "      <td>2</td>\n",
              "      <td>1.0</td>\n",
              "      <td>1</td>\n",
              "      <td>1</td>\n",
              "      <td>1</td>\n",
              "    </tr>\n",
              "  </tbody>\n",
              "</table>\n",
              "</div>"
            ],
            "text/plain": [
              "              created  price  ...  pets_allowed  num_features\n",
              "2 2016-04-17 03:26:41   2850  ...             0             3\n",
              "3 2016-04-18 02:22:02   3275  ...             0             2\n",
              "4 2016-04-28 01:32:41   3350  ...             0             0\n",
              "5 2016-04-19 04:24:47   7995  ...             0             0\n",
              "6 2016-04-27 03:19:56   3600  ...             1             1\n",
              "\n",
              "[5 rows x 9 columns]"
            ]
          },
          "metadata": {
            "tags": []
          },
          "execution_count": 13
        }
      ]
    },
    {
      "cell_type": "code",
      "metadata": {
        "id": "ABiJC3Wr7YT6",
        "colab_type": "code",
        "colab": {
          "base_uri": "https://localhost:8080/",
          "height": 221
        },
        "outputId": "0aa17b68-b239-42a0-a839-1c4fcf3929df"
      },
      "source": [
        "print(test.shape)\n",
        "test.head()"
      ],
      "execution_count": 14,
      "outputs": [
        {
          "output_type": "stream",
          "text": [
            "(16973, 9)\n"
          ],
          "name": "stdout"
        },
        {
          "output_type": "execute_result",
          "data": {
            "text/html": [
              "<div>\n",
              "<style scoped>\n",
              "    .dataframe tbody tr th:only-of-type {\n",
              "        vertical-align: middle;\n",
              "    }\n",
              "\n",
              "    .dataframe tbody tr th {\n",
              "        vertical-align: top;\n",
              "    }\n",
              "\n",
              "    .dataframe thead th {\n",
              "        text-align: right;\n",
              "    }\n",
              "</style>\n",
              "<table border=\"1\" class=\"dataframe\">\n",
              "  <thead>\n",
              "    <tr style=\"text-align: right;\">\n",
              "      <th></th>\n",
              "      <th>created</th>\n",
              "      <th>price</th>\n",
              "      <th>latitude</th>\n",
              "      <th>longitude</th>\n",
              "      <th>bedrooms</th>\n",
              "      <th>bathrooms</th>\n",
              "      <th>interest_value</th>\n",
              "      <th>pets_allowed</th>\n",
              "      <th>num_features</th>\n",
              "    </tr>\n",
              "  </thead>\n",
              "  <tbody>\n",
              "    <tr>\n",
              "      <th>0</th>\n",
              "      <td>2016-06-24 07:54:24</td>\n",
              "      <td>3000</td>\n",
              "      <td>40.7145</td>\n",
              "      <td>-73.9425</td>\n",
              "      <td>3</td>\n",
              "      <td>1.5</td>\n",
              "      <td>2</td>\n",
              "      <td>0</td>\n",
              "      <td>0</td>\n",
              "    </tr>\n",
              "    <tr>\n",
              "      <th>1</th>\n",
              "      <td>2016-06-12 12:19:27</td>\n",
              "      <td>5465</td>\n",
              "      <td>40.7947</td>\n",
              "      <td>-73.9667</td>\n",
              "      <td>2</td>\n",
              "      <td>1.0</td>\n",
              "      <td>1</td>\n",
              "      <td>1</td>\n",
              "      <td>3</td>\n",
              "    </tr>\n",
              "    <tr>\n",
              "      <th>11</th>\n",
              "      <td>2016-06-03 03:21:22</td>\n",
              "      <td>1675</td>\n",
              "      <td>40.8448</td>\n",
              "      <td>-73.9396</td>\n",
              "      <td>1</td>\n",
              "      <td>1.0</td>\n",
              "      <td>1</td>\n",
              "      <td>0</td>\n",
              "      <td>0</td>\n",
              "    </tr>\n",
              "    <tr>\n",
              "      <th>14</th>\n",
              "      <td>2016-06-01 03:11:01</td>\n",
              "      <td>3050</td>\n",
              "      <td>40.7584</td>\n",
              "      <td>-73.9648</td>\n",
              "      <td>1</td>\n",
              "      <td>1.0</td>\n",
              "      <td>1</td>\n",
              "      <td>0</td>\n",
              "      <td>3</td>\n",
              "    </tr>\n",
              "    <tr>\n",
              "      <th>24</th>\n",
              "      <td>2016-06-07 04:39:56</td>\n",
              "      <td>7400</td>\n",
              "      <td>40.7391</td>\n",
              "      <td>-73.9936</td>\n",
              "      <td>4</td>\n",
              "      <td>2.0</td>\n",
              "      <td>2</td>\n",
              "      <td>1</td>\n",
              "      <td>9</td>\n",
              "    </tr>\n",
              "  </tbody>\n",
              "</table>\n",
              "</div>"
            ],
            "text/plain": [
              "               created  price  ...  pets_allowed  num_features\n",
              "0  2016-06-24 07:54:24   3000  ...             0             0\n",
              "1  2016-06-12 12:19:27   5465  ...             1             3\n",
              "11 2016-06-03 03:21:22   1675  ...             0             0\n",
              "14 2016-06-01 03:11:01   3050  ...             0             3\n",
              "24 2016-06-07 04:39:56   7400  ...             1             9\n",
              "\n",
              "[5 rows x 9 columns]"
            ]
          },
          "metadata": {
            "tags": []
          },
          "execution_count": 14
        }
      ]
    },
    {
      "cell_type": "code",
      "metadata": {
        "id": "6wLknx-uAPbs",
        "colab_type": "code",
        "colab": {
          "base_uri": "https://localhost:8080/",
          "height": 170
        },
        "outputId": "0d752fce-dde3-4436-e763-4aa776b3fa68"
      },
      "source": [
        "# it appears that interest_value and num_features will be decent,\n",
        "# but pets_allowed doesn't add much\n",
        "data.corr()['price'].sort_values()"
      ],
      "execution_count": 15,
      "outputs": [
        {
          "output_type": "execute_result",
          "data": {
            "text/plain": [
              "longitude        -0.251004\n",
              "interest_value   -0.203596\n",
              "latitude         -0.036286\n",
              "pets_allowed      0.050989\n",
              "num_features      0.309362\n",
              "bedrooms          0.535503\n",
              "bathrooms         0.687296\n",
              "price             1.000000\n",
              "Name: price, dtype: float64"
            ]
          },
          "metadata": {
            "tags": []
          },
          "execution_count": 15
        }
      ]
    },
    {
      "cell_type": "markdown",
      "metadata": {
        "id": "bexFQxCS75La",
        "colab_type": "text"
      },
      "source": [
        "### Fit a linear regression model with at least two features"
      ]
    },
    {
      "cell_type": "code",
      "metadata": {
        "id": "oDWBgwu571BR",
        "colab_type": "code",
        "colab": {}
      },
      "source": [
        "from sklearn.linear_model import LinearRegression\n",
        "from sklearn.metrics import mean_absolute_error"
      ],
      "execution_count": 0,
      "outputs": []
    },
    {
      "cell_type": "code",
      "metadata": {
        "id": "70sUGPwl8DMX",
        "colab_type": "code",
        "colab": {
          "base_uri": "https://localhost:8080/",
          "height": 34
        },
        "outputId": "fbc7cddf-ef67-40ed-d993-cdabf46b7245"
      },
      "source": [
        "# Trying just the new features I added sounsd fun\n",
        "model = LinearRegression()\n",
        "\n",
        "features = ['interest_value', 'pets_allowed', 'num_features']\n",
        "X_train = train[features]\n",
        "\n",
        "target = 'price'\n",
        "y_train = train[target]\n",
        "\n",
        "model.fit(X_train, y_train)"
      ],
      "execution_count": 17,
      "outputs": [
        {
          "output_type": "execute_result",
          "data": {
            "text/plain": [
              "LinearRegression(copy_X=True, fit_intercept=True, n_jobs=None, normalize=False)"
            ]
          },
          "metadata": {
            "tags": []
          },
          "execution_count": 17
        }
      ]
    },
    {
      "cell_type": "code",
      "metadata": {
        "id": "dsORcd0798LV",
        "colab_type": "code",
        "colab": {
          "base_uri": "https://localhost:8080/",
          "height": 34
        },
        "outputId": "04585a2a-4631-45bc-9e1d-85e4b07c9d01"
      },
      "source": [
        "# Mean baseline\n",
        "y_pred = [data[target].mean()] * len(data)\n",
        "y_true = data[target]\n",
        "print(f'Baseline mean error: {mean_absolute_error(y_true, y_pred):.2f}')"
      ],
      "execution_count": 18,
      "outputs": [
        {
          "output_type": "stream",
          "text": [
            "Baseline mean error: 1201.53\n"
          ],
          "name": "stdout"
        }
      ]
    },
    {
      "cell_type": "code",
      "metadata": {
        "id": "j0qcb3Qb_edU",
        "colab_type": "code",
        "colab": {}
      },
      "source": [
        "def test_features(features):\n",
        "  \"\"\"\n",
        "  Function to quickly run regression with different features,\n",
        "  not designed for use outside this notebook\n",
        "  \"\"\"\n",
        "  X_train = train[features]\n",
        "  model.fit(X_train, y_train)\n",
        "\n",
        "  # Training test result\n",
        "  y_pred = model.predict(train[features])\n",
        "  y_true = train[target]\n",
        "  print(f'Training mean error: {mean_absolute_error(y_true, y_pred):.2f}')\n",
        "\n",
        "  # Training test result\n",
        "  y_pred = model.predict(test[features])\n",
        "  y_true = test[target]\n",
        "  print(f'Testing mean error: {mean_absolute_error(y_true, y_pred):.2f}')"
      ],
      "execution_count": 0,
      "outputs": []
    },
    {
      "cell_type": "code",
      "metadata": {
        "id": "EYtsoDuQ_98e",
        "colab_type": "code",
        "colab": {
          "base_uri": "https://localhost:8080/",
          "height": 51
        },
        "outputId": "a4292fa7-a47d-407c-d496-d54447b3b0d5"
      },
      "source": [
        "test_features(features)"
      ],
      "execution_count": 20,
      "outputs": [
        {
          "output_type": "stream",
          "text": [
            "Training mean error: 1101.18\n",
            "Testing mean error: 1090.85\n"
          ],
          "name": "stdout"
        }
      ]
    },
    {
      "cell_type": "markdown",
      "metadata": {
        "id": "PgjdwZv9_MUR",
        "colab_type": "text"
      },
      "source": [
        "Ok, so that's not quite as good as what I had yesterday.  I already knew bedrooms and bathrooms were highly correlated though"
      ]
    },
    {
      "cell_type": "code",
      "metadata": {
        "id": "Vux67s6p-zms",
        "colab_type": "code",
        "colab": {
          "base_uri": "https://localhost:8080/",
          "height": 51
        },
        "outputId": "da4e6879-92fe-4268-e58b-d104d9ec4fde"
      },
      "source": [
        "features = ['bedrooms', 'bathrooms']\n",
        "test_features(features)"
      ],
      "execution_count": 21,
      "outputs": [
        {
          "output_type": "stream",
          "text": [
            "Training mean error: 818.53\n",
            "Testing mean error: 825.90\n"
          ],
          "name": "stdout"
        }
      ]
    },
    {
      "cell_type": "code",
      "metadata": {
        "id": "NI2e09pFAUjU",
        "colab_type": "code",
        "colab": {
          "base_uri": "https://localhost:8080/",
          "height": 51
        },
        "outputId": "91277d91-b96d-44c3-ace8-ef34cfc34070"
      },
      "source": [
        "features = ['bedrooms', 'bathrooms', 'num_features', 'interest_value']\n",
        "test_features(features)"
      ],
      "execution_count": 22,
      "outputs": [
        {
          "output_type": "stream",
          "text": [
            "Training mean error: 761.12\n",
            "Testing mean error: 758.32\n"
          ],
          "name": "stdout"
        }
      ]
    },
    {
      "cell_type": "code",
      "metadata": {
        "id": "DSWAN_xrAuFx",
        "colab_type": "code",
        "colab": {
          "base_uri": "https://localhost:8080/",
          "height": 51
        },
        "outputId": "af85b644-7555-4057-cf7b-d43ae07618f4"
      },
      "source": [
        "features = ['latitude', 'longitude']\n",
        "test_features(features)"
      ],
      "execution_count": 23,
      "outputs": [
        {
          "output_type": "stream",
          "text": [
            "Training mean error: 1147.15\n",
            "Testing mean error: 1139.70\n"
          ],
          "name": "stdout"
        }
      ]
    },
    {
      "cell_type": "code",
      "metadata": {
        "id": "h49j-X5OBisZ",
        "colab_type": "code",
        "colab": {
          "base_uri": "https://localhost:8080/",
          "height": 51
        },
        "outputId": "48cd1629-9584-430e-85aa-9b27bb214109"
      },
      "source": [
        "# These are the 5 highest correlated features in the 'data' dataframe\n",
        "features = ['bedrooms', 'bathrooms', 'num_features', \n",
        "            'interest_value', 'longitude']\n",
        "test_features(features)"
      ],
      "execution_count": 24,
      "outputs": [
        {
          "output_type": "stream",
          "text": [
            "Training mean error: 698.86\n",
            "Testing mean error: 700.69\n"
          ],
          "name": "stdout"
        }
      ]
    },
    {
      "cell_type": "markdown",
      "metadata": {
        "id": "OsJvGAkeCCcO",
        "colab_type": "text"
      },
      "source": [
        "### Get the model's coefficients and intercept"
      ]
    },
    {
      "cell_type": "code",
      "metadata": {
        "id": "ZtuS5l-UCDdG",
        "colab_type": "code",
        "colab": {
          "base_uri": "https://localhost:8080/",
          "height": 34
        },
        "outputId": "36d5aee4-c66c-4526-8776-35a6072c13c6"
      },
      "source": [
        "# Just to reiterate, using these features\n",
        "features = ['bedrooms', 'bathrooms', 'num_features', \n",
        "            'interest_value', 'longitude']\n",
        "model.fit(train[features], train[target])"
      ],
      "execution_count": 25,
      "outputs": [
        {
          "output_type": "execute_result",
          "data": {
            "text/plain": [
              "LinearRegression(copy_X=True, fit_intercept=True, n_jobs=None, normalize=False)"
            ]
          },
          "metadata": {
            "tags": []
          },
          "execution_count": 25
        }
      ]
    },
    {
      "cell_type": "code",
      "metadata": {
        "id": "WSmxNFFJCM-g",
        "colab_type": "code",
        "colab": {
          "base_uri": "https://localhost:8080/",
          "height": 85
        },
        "outputId": "ad069818-051d-405b-8cb0-1eea85b116d6"
      },
      "source": [
        "print(f'The model intercept is {model.intercept_}')\n",
        "print('And the model coefficients are')\n",
        "print(model.coef_)"
      ],
      "execution_count": 26,
      "outputs": [
        {
          "output_type": "stream",
          "text": [
            "The model intercept is -989261.5681562815\n",
            "And the model coefficients are\n",
            "[   450.51985915   1835.81981413     59.11304177   -484.37329193\n",
            " -13388.63744478]\n"
          ],
          "name": "stdout"
        }
      ]
    },
    {
      "cell_type": "markdown",
      "metadata": {
        "id": "YoB9Vo9RDpNf",
        "colab_type": "text"
      },
      "source": [
        "### Get regression metrics RMSE, MAE, and $R^2$, for both the train and test data"
      ]
    },
    {
      "cell_type": "code",
      "metadata": {
        "id": "o6Z9TMHhDWJo",
        "colab_type": "code",
        "colab": {}
      },
      "source": [
        "from sklearn.linear_model import LinearRegression\n",
        "from sklearn.metrics import mean_absolute_error, mean_squared_error, r2_score\n",
        "\n",
        "# This code cell could be copied and used elsewhere\n",
        "def run_linear_regression(train, test, target, features):\n",
        "  \"\"\"\n",
        "  Runs linear regression and outputs various testing metrics\n",
        "\n",
        "  Train: pd.DataFrame, the training dataset\n",
        "  Test: pd.DataFrame, the testing dataset\n",
        "  target: string, the column to predict\n",
        "  features: list[string], the columns used as features\n",
        "  \"\"\"\n",
        "  # Set up the model\n",
        "  model = LinearRegression()\n",
        "  X_train = train[features]\n",
        "  y_train = train[target]\n",
        "  model.fit(X_train, y_train)\n",
        "\n",
        "  # Get training scores\n",
        "  y_pred = model.predict(train[features])\n",
        "  y_true = train[target]\n",
        "  train_mae = mean_absolute_error(y_true, y_pred)\n",
        "  train_mse = mean_squared_error(y_true,  y_pred)\n",
        "  train_r2 = r2_score(y_true, y_pred)\n",
        "\n",
        "  # Get testing scores\n",
        "  y_pred = model.predict(test[features])\n",
        "  y_true = test[target]\n",
        "  test_mae = mean_absolute_error(y_true, y_pred)\n",
        "  test_mse = mean_squared_error(y_true,  y_pred)\n",
        "  test_r2 = r2_score(y_true, y_pred)\n",
        "\n",
        "  # Print results\n",
        "  print('Training scores:')\n",
        "  print(f'\\tMean squared error: {train_mse:.02f}')\n",
        "  print(f'\\tMean absolute error: {train_mae:.02f}')\n",
        "  print(f'\\tR squared score: {train_r2:.02f}')\n",
        "\n",
        "  print('\\nTesting scores:')\n",
        "  print(f'\\tMean squared error: {test_mse:.02f}')\n",
        "  print(f'\\tMean absolute error: {test_mae:.02f}')\n",
        "  print(f'\\tR squared score: {test_r2:.02f}')"
      ],
      "execution_count": 0,
      "outputs": []
    },
    {
      "cell_type": "markdown",
      "metadata": {
        "id": "k2zcF30ZGrN8",
        "colab_type": "text"
      },
      "source": [
        "Note: For the mean error metrics lower is better.  For the $R^2$ metric, higher is better."
      ]
    },
    {
      "cell_type": "code",
      "metadata": {
        "id": "sLt5LWmRGoDE",
        "colab_type": "code",
        "colab": {
          "base_uri": "https://localhost:8080/",
          "height": 170
        },
        "outputId": "40686ac3-ce3f-495f-c267-4750546e4300"
      },
      "source": [
        "features = ['bedrooms', 'bathrooms']\n",
        "run_linear_regression(train, test, 'price', features)"
      ],
      "execution_count": 28,
      "outputs": [
        {
          "output_type": "stream",
          "text": [
            "Training scores:\n",
            "\tMean squared error: 1517879.67\n",
            "\tMean absolute error: 818.53\n",
            "\tR squared score: 0.51\n",
            "\n",
            "Testing scores:\n",
            "\tMean squared error: 1487715.31\n",
            "\tMean absolute error: 825.90\n",
            "\tR squared score: 0.52\n"
          ],
          "name": "stdout"
        }
      ]
    },
    {
      "cell_type": "code",
      "metadata": {
        "id": "s1o23KCeGRUg",
        "colab_type": "code",
        "colab": {
          "base_uri": "https://localhost:8080/",
          "height": 170
        },
        "outputId": "82d14640-fb36-4fd1-c3f1-057689749ced"
      },
      "source": [
        "features = ['bedrooms', 'bathrooms', 'num_features', \n",
        "            'interest_value', 'longitude']\n",
        "run_linear_regression(train, test, 'price', features)"
      ],
      "execution_count": 29,
      "outputs": [
        {
          "output_type": "stream",
          "text": [
            "Training scores:\n",
            "\tMean squared error: 1207498.80\n",
            "\tMean absolute error: 698.86\n",
            "\tR squared score: 0.61\n",
            "\n",
            "Testing scores:\n",
            "\tMean squared error: 1171900.39\n",
            "\tMean absolute error: 700.69\n",
            "\tR squared score: 0.62\n"
          ],
          "name": "stdout"
        }
      ]
    },
    {
      "cell_type": "markdown",
      "metadata": {
        "id": "Fq3o4XcGG9JU",
        "colab_type": "text"
      },
      "source": [
        "### What's the best test MAE you can get?"
      ]
    },
    {
      "cell_type": "code",
      "metadata": {
        "id": "SLuD8CXUG_ii",
        "colab_type": "code",
        "colab": {
          "base_uri": "https://localhost:8080/",
          "height": 170
        },
        "outputId": "cce6894b-e38b-4b81-92e9-dfd49ab3e1f5"
      },
      "source": [
        "# Go back to the entire dataframe instead of my subset of columns\n",
        "cutoff = pd.to_datetime('June 1 2016')\n",
        "train = df[df['created'] < cutoff]\n",
        "test = df[df['created'] >= cutoff]\n",
        "\n",
        "# This was my best result during yesterday's stretch goals\n",
        "# We did not split data there, so this may be a different result\n",
        "features = ['bedrooms', 'bathrooms', 'laundry_in_unit', \n",
        "            'fitness_center', 'dishwasher']\n",
        "run_linear_regression(train, test, 'price', features)"
      ],
      "execution_count": 30,
      "outputs": [
        {
          "output_type": "stream",
          "text": [
            "Training scores:\n",
            "\tMean squared error: 1418769.62\n",
            "\tMean absolute error: 785.95\n",
            "\tR squared score: 0.54\n",
            "\n",
            "Testing scores:\n",
            "\tMean squared error: 1399567.19\n",
            "\tMean absolute error: 795.58\n",
            "\tR squared score: 0.55\n"
          ],
          "name": "stdout"
        }
      ]
    },
    {
      "cell_type": "code",
      "metadata": {
        "id": "vGUcgF7LICed",
        "colab_type": "code",
        "colab": {
          "base_uri": "https://localhost:8080/",
          "height": 238
        },
        "outputId": "358f6301-6574-4234-c2dc-55521e8417eb"
      },
      "source": [
        "# The most correlated features we have so far\n",
        "df.corr()['price'].abs().sort_values().tail(12)"
      ],
      "execution_count": 31,
      "outputs": [
        {
          "output_type": "execute_result",
          "data": {
            "text/plain": [
              "interest_value     0.203596\n",
              "elevator           0.207169\n",
              "dishwasher         0.223899\n",
              "fitness_center     0.228775\n",
              "dining_room        0.242911\n",
              "longitude          0.251004\n",
              "laundry_in_unit    0.271195\n",
              "doorman            0.276215\n",
              "num_features       0.309362\n",
              "bedrooms           0.535503\n",
              "bathrooms          0.687296\n",
              "price              1.000000\n",
              "Name: price, dtype: float64"
            ]
          },
          "metadata": {
            "tags": []
          },
          "execution_count": 31
        }
      ]
    },
    {
      "cell_type": "code",
      "metadata": {
        "id": "JRCxh37QIFrV",
        "colab_type": "code",
        "colab": {
          "base_uri": "https://localhost:8080/",
          "height": 170
        },
        "outputId": "a872169c-ad11-41a7-ce15-a747be6f15a1"
      },
      "source": [
        "features = ['bathrooms', 'bedrooms', 'num_features', \n",
        "            'longitude', 'interest_value']\n",
        "run_linear_regression(train, test, 'price', features)"
      ],
      "execution_count": 32,
      "outputs": [
        {
          "output_type": "stream",
          "text": [
            "Training scores:\n",
            "\tMean squared error: 1207498.80\n",
            "\tMean absolute error: 698.86\n",
            "\tR squared score: 0.61\n",
            "\n",
            "Testing scores:\n",
            "\tMean squared error: 1171900.39\n",
            "\tMean absolute error: 700.69\n",
            "\tR squared score: 0.62\n"
          ],
          "name": "stdout"
        }
      ]
    },
    {
      "cell_type": "code",
      "metadata": {
        "id": "6UrLP4nHIiQV",
        "colab_type": "code",
        "colab": {
          "base_uri": "https://localhost:8080/",
          "height": 170
        },
        "outputId": "ae5edbb3-fa23-49e9-abe0-307220f10016"
      },
      "source": [
        "# doorman and laundry_in_unit are included in num_features, \n",
        "# but what if we add them anyway?\n",
        "features = ['bathrooms', 'bedrooms', 'num_features', 'longitude', \n",
        "            'interest_value', 'doorman', 'laundry_in_unit']\n",
        "run_linear_regression(train, test, 'price', features)"
      ],
      "execution_count": 33,
      "outputs": [
        {
          "output_type": "stream",
          "text": [
            "Training scores:\n",
            "\tMean squared error: 1160202.38\n",
            "\tMean absolute error: 682.13\n",
            "\tR squared score: 0.63\n",
            "\n",
            "Testing scores:\n",
            "\tMean squared error: 1132205.23\n",
            "\tMean absolute error: 685.95\n",
            "\tR squared score: 0.64\n"
          ],
          "name": "stdout"
        }
      ]
    },
    {
      "cell_type": "markdown",
      "metadata": {
        "id": "GrfkaShoJblV",
        "colab_type": "text"
      },
      "source": [
        "I think that's the best I can get out of my current features.  For reference, yesterday when not splitting data or engineering features the best MAE I got was 697, so I'm already ahead there.\n",
        "\n",
        "Let's see if I can engineer any others."
      ]
    },
    {
      "cell_type": "code",
      "metadata": {
        "id": "uhuIjQWuJi4e",
        "colab_type": "code",
        "colab": {
          "base_uri": "https://localhost:8080/",
          "height": 34
        },
        "outputId": "d5d97ab7-a2c9-42f7-d593-17a5376ef6d7"
      },
      "source": [
        "# Does the length of the description correlate at all?\n",
        "# (I did a similar thing with length of reviews in my first build week)\n",
        "pd.Series(len(str(des)) for des in df['description']).corr(df['price'])\n",
        "\n",
        "# Answer: not at all"
      ],
      "execution_count": 34,
      "outputs": [
        {
          "output_type": "execute_result",
          "data": {
            "text/plain": [
              "0.16201523678051633"
            ]
          },
          "metadata": {
            "tags": []
          },
          "execution_count": 34
        }
      ]
    },
    {
      "cell_type": "code",
      "metadata": {
        "id": "1CEdGUo4MDtX",
        "colab_type": "code",
        "colab": {
          "base_uri": "https://localhost:8080/",
          "height": 34
        },
        "outputId": "8bda4618-5a17-4c56-f3e8-f7c669adbedb"
      },
      "source": [
        "# How about the number of days since when this dataset starts?\n",
        "begin_date = pd.to_datetime('2016-04-01') # the earliest date in the dataset\n",
        "days_since = pd.Series([(d-begin_date).days for d in df['created']])\n",
        "days_since.corr(df['price'])"
      ],
      "execution_count": 35,
      "outputs": [
        {
          "output_type": "execute_result",
          "data": {
            "text/plain": [
              "0.014949414545167721"
            ]
          },
          "metadata": {
            "tags": []
          },
          "execution_count": 35
        }
      ]
    },
    {
      "cell_type": "code",
      "metadata": {
        "id": "vEl0L1JiN2V-",
        "colab_type": "code",
        "colab": {}
      },
      "source": [
        "# What if we used PCA? (I honestly don't know if this works, so I'll just try it)\n",
        "from sklearn.preprocessing import StandardScaler\n",
        "from sklearn.decomposition import PCA\n",
        "\n",
        "# get columns to use PCA with (drop price and categorical types)\n",
        "pca_data = df.drop(['price', 'created', 'description', 'display_address', \n",
        "                    'street_address', 'interest_level'], axis=1)\n",
        "\n",
        "# Get the standardized matrix Z\n",
        "scaler = StandardScaler()\n",
        "Z = scaler.fit_transform(pca_data)\n",
        "\n",
        "# Run PCA\n",
        "pca = PCA()\n",
        "principal_components = pd.DataFrame(pca.fit_transform(Z))"
      ],
      "execution_count": 0,
      "outputs": []
    },
    {
      "cell_type": "code",
      "metadata": {
        "id": "YRfTV_8ePuNb",
        "colab_type": "code",
        "colab": {
          "base_uri": "https://localhost:8080/",
          "height": 295
        },
        "outputId": "7f50d5f9-5163-4b17-87e0-3185f2af4efd"
      },
      "source": [
        "# Scree plot to see how many components we might use\n",
        "import matplotlib.pyplot as plt\n",
        "\n",
        "ind = np.arange(len(pca.explained_variance_ratio_))\n",
        "vals = pca.explained_variance_ratio_\n",
        "\n",
        "plt.bar(ind, vals)\n",
        "plt.plot(ind, np.cumsum(vals))\n",
        "\n",
        "plt.xlabel(\"Principal Component\")\n",
        "plt.ylabel(\"Variance Explained (%)\")\n",
        "plt.title('Explained Variance Per Principal Component');"
      ],
      "execution_count": 37,
      "outputs": [
        {
          "output_type": "display_data",
          "data": {
            "image/png": "[encoded data removed]",
            "text/plain": [
              "<Figure size 432x288 with 1 Axes>"
            ]
          },
          "metadata": {
            "tags": []
          }
        }
      ]
    },
    {
      "cell_type": "code",
      "metadata": {
        "id": "ixTT8MlkQmG3",
        "colab_type": "code",
        "colab": {
          "base_uri": "https://localhost:8080/",
          "height": 119
        },
        "outputId": "a131d519-30f7-4c07-bb81-bb0e7988033e"
      },
      "source": [
        "# Well that doesn't look promising...\n",
        "# I'm not sure this will work, but let's just try it\n",
        "\n",
        "# Add the top 2 principal components to train and test\n",
        "df['pc1'] = principal_components[0]\n",
        "df['pc2'] = principal_components[1]\n",
        "train = df[df['created'] < cutoff]\n",
        "test = df[df['created'] >= cutoff]\n",
        "\n",
        "# Check correlation\n",
        "df.corr()['price'].tail()"
      ],
      "execution_count": 38,
      "outputs": [
        {
          "output_type": "execute_result",
          "data": {
            "text/plain": [
              "interest_value   -0.203596\n",
              "pets_allowed      0.050989\n",
              "num_features      0.309362\n",
              "pc1               0.361486\n",
              "pc2               0.017167\n",
              "Name: price, dtype: float64"
            ]
          },
          "metadata": {
            "tags": []
          },
          "execution_count": 38
        }
      ]
    },
    {
      "cell_type": "code",
      "metadata": {
        "id": "OBoKXHSmUflj",
        "colab_type": "code",
        "colab": {
          "base_uri": "https://localhost:8080/",
          "height": 170
        },
        "outputId": "91c10f1d-c354-4618-9874-fc2635992792"
      },
      "source": [
        "# So pc1 might be good, but pc2 doesn't seem to help\n",
        "features = ['pc1', 'pc2']\n",
        "run_linear_regression(train, test, 'price', features)"
      ],
      "execution_count": 39,
      "outputs": [
        {
          "output_type": "stream",
          "text": [
            "Training scores:\n",
            "\tMean squared error: 2704837.06\n",
            "\tMean absolute error: 1109.52\n",
            "\tR squared score: 0.13\n",
            "\n",
            "Testing scores:\n",
            "\tMean squared error: 2689817.57\n",
            "\tMean absolute error: 1097.52\n",
            "\tR squared score: 0.13\n"
          ],
          "name": "stdout"
        }
      ]
    },
    {
      "cell_type": "code",
      "metadata": {
        "id": "Lun07NsgUo8t",
        "colab_type": "code",
        "colab": {
          "base_uri": "https://localhost:8080/",
          "height": 170
        },
        "outputId": "946463c3-4b41-4ccd-adea-0b59ad4cb5be"
      },
      "source": [
        "# adding pc1 improved this test MAE by .1!  wow\n",
        "features = ['bathrooms', 'bedrooms', 'num_features', 'longitude', \n",
        "            'interest_value', 'doorman', 'laundry_in_unit', 'pc1']\n",
        "run_linear_regression(train, test, 'price', features)"
      ],
      "execution_count": 40,
      "outputs": [
        {
          "output_type": "stream",
          "text": [
            "Training scores:\n",
            "\tMean squared error: 1159415.88\n",
            "\tMean absolute error: 681.61\n",
            "\tR squared score: 0.63\n",
            "\n",
            "Testing scores:\n",
            "\tMean squared error: 1132247.13\n",
            "\tMean absolute error: 685.85\n",
            "\tR squared score: 0.64\n"
          ],
          "name": "stdout"
        }
      ]
    },
    {
      "cell_type": "code",
      "metadata": {
        "id": "1eFbtVFKVAcT",
        "colab_type": "code",
        "colab": {
          "base_uri": "https://localhost:8080/",
          "height": 542
        },
        "outputId": "9f3899a4-a43a-46a8-9e82-ab5b85b8b856"
      },
      "source": [
        "# Yesterday, I used a loop to try all the features in order of correlation.\n",
        "# Try that again now\n",
        "\n",
        "all_features = (df.corr()['price']            # get correlation of each column\n",
        "                .abs()                        # get absolute value of that\n",
        "                .drop('price')                # drop price's correlation to itself\n",
        "                .sort_values(ascending=False) # sort descending\n",
        "                .reset_index()['index'])      # get the column names themselves\n",
        "\n",
        "y_train = train['price']\n",
        "y_true = test['price']\n",
        "errors = []\n",
        "for n in range(1,len(all_features)+1):\n",
        "  # set up the first n features\n",
        "  features = all_features[:n]\n",
        "  X_train = train[features]\n",
        "\n",
        "  # fit the model\n",
        "  model.fit(X_train, y_train)\n",
        "\n",
        "  # test the model\n",
        "  y_pred = model.predict(test[features])\n",
        "  mea = mean_absolute_error(y_true, y_pred)\n",
        "  errors.append(mea) # save errors for the alternate visualization\n",
        "\n",
        "# plot results\n",
        "import plotly.express as px\n",
        "px.bar(x=all_features, y=errors, range_y=[670,900])"
      ],
      "execution_count": 41,
      "outputs": [
        {
          "output_type": "display_data",
          "data": {
            "text/html": [
              "<html>\n",
              "<head><meta charset=\"utf-8\" /></head>\n",
              "<body>\n",
              "    <div>\n",
              "            <script src=\"https://cdnjs.cloudflare.com/ajax/libs/mathjax/2.7.5/MathJax.js?config=TeX-AMS-MML_SVG\"></script><script type=\"text/javascript\">if (window.MathJax) {MathJax.Hub.Config({SVG: {font: \"STIX-Web\"}});}</script>\n",
              "                <script type=\"text/javascript\">window.PlotlyConfig = {MathJaxConfig: 'local'};</script>\n",
              "        <script src=\"https://cdn.plot.ly/plotly-latest.min.js\"></script>    \n",
              "            <div id=\"4d99f959-5489-4c21-8a17-0a5cab1ca78e\" class=\"plotly-graph-div\" style=\"height:525px; width:100%;\"></div>\n",
              "            <script type=\"text/javascript\">\n",
              "                \n",
              "                    window.PLOTLYENV=window.PLOTLYENV || {};\n",
              "                    \n",
              "                if (document.getElementById(\"4d99f959-5489-4c21-8a17-0a5cab1ca78e\")) {\n",
              "                    Plotly.newPlot(\n",
              "                        '4d99f959-5489-4c21-8a17-0a5cab1ca78e',\n",
              "                        [{\"alignmentgroup\": \"True\", \"hoverlabel\": {\"namelength\": 0}, \"hovertemplate\": \"x=%{x}<br>y=%{y}\", \"legendgroup\": \"\", \"marker\": {\"color\": \"#636efa\"}, \"name\": \"\", \"offsetgroup\": \"\", \"orientation\": \"v\", \"showlegend\": false, \"textposition\": \"auto\", \"type\": \"bar\", \"x\": [\"bathrooms\", \"bedrooms\", \"pc1\", \"num_features\", \"doorman\", \"laundry_in_unit\", \"longitude\", \"dining_room\", \"fitness_center\", \"dishwasher\", \"elevator\", \"interest_value\", \"terrace\", \"outdoor_space\", \"balcony\", \"swimming_pool\", \"no_fee\", \"roof_deck\", \"garden_patio\", \"hardwood_floors\", \"high_speed_internet\", \"wheelchair_access\", \"new_construction\", \"dogs_allowed\", \"cats_allowed\", \"pets_allowed\", \"latitude\", \"pre-war\", \"laundry_in_building\", \"pc2\", \"exclusive\", \"common_outdoor_space\", \"loft\"], \"xaxis\": \"x\", \"y\": [890.4611966931298, 825.8987822403527, 799.4155072650599, 796.597657294188, 770.5487001949242, 765.8408177017282, 711.8329154525751, 711.8507969260978, 710.6809857485358, 709.877943434388, 706.234432303646, 681.8116755009466, 680.5354494854408, 680.5605415736358, 679.9118961188625, 679.3020326704321, 679.7616575192277, 679.7249893418975, 678.9857954200698, 678.116277806083, 676.7118303121051, 676.5183732682577, 676.4771596978986, 676.4885741532602, 676.4850439043734, 676.5977174365602, 677.2947565832955, 677.048953678776, 676.6907438375227, 677.0048341365778, 677.0921463500854, 677.6828492311319, 677.4467094797619], \"yaxis\": \"y\"}],\n",
              "                        {\"barmode\": \"relative\", \"legend\": {\"tracegroupgap\": 0}, \"margin\": {\"t\": 60}, \"template\": {\"data\": {\"bar\": [{\"error_x\": {\"color\": \"#2a3f5f\"}, \"error_y\": {\"color\": \"#2a3f5f\"}, \"marker\": {\"line\": {\"color\": \"#E5ECF6\", \"width\": 0.5}}, \"type\": \"bar\"}], \"barpolar\": [{\"marker\": {\"line\": {\"color\": \"#E5ECF6\", \"width\": 0.5}}, \"type\": \"barpolar\"}], \"carpet\": [{\"aaxis\": {\"endlinecolor\": \"#2a3f5f\", \"gridcolor\": \"white\", \"linecolor\": \"white\", \"minorgridcolor\": \"white\", \"startlinecolor\": \"#2a3f5f\"}, \"baxis\": {\"endlinecolor\": \"#2a3f5f\", \"gridcolor\": \"white\", \"linecolor\": \"white\", \"minorgridcolor\": \"white\", \"startlinecolor\": \"#2a3f5f\"}, \"type\": \"carpet\"}], \"choropleth\": [{\"colorbar\": {\"outlinewidth\": 0, \"ticks\": \"\"}, \"type\": \"choropleth\"}], \"contour\": [{\"colorbar\": {\"outlinewidth\": 0, \"ticks\": \"\"}, \"colorscale\": [[0.0, \"#0d0887\"], [0.1111111111111111, \"#46039f\"], [0.2222222222222222, \"#7201a8\"], [0.3333333333333333, \"#9c179e\"], [0.4444444444444444, \"#bd3786\"], [0.5555555555555556, \"#d8576b\"], [0.6666666666666666, \"#ed7953\"], [0.7777777777777778, \"#fb9f3a\"], [0.8888888888888888, \"#fdca26\"], [1.0, \"#f0f921\"]], \"type\": \"contour\"}], \"contourcarpet\": [{\"colorbar\": {\"outlinewidth\": 0, \"ticks\": \"\"}, \"type\": \"contourcarpet\"}], \"heatmap\": [{\"colorbar\": {\"outlinewidth\": 0, \"ticks\": \"\"}, \"colorscale\": [[0.0, \"#0d0887\"], [0.1111111111111111, \"#46039f\"], [0.2222222222222222, \"#7201a8\"], [0.3333333333333333, \"#9c179e\"], [0.4444444444444444, \"#bd3786\"], [0.5555555555555556, \"#d8576b\"], [0.6666666666666666, \"#ed7953\"], [0.7777777777777778, \"#fb9f3a\"], [0.8888888888888888, \"#fdca26\"], [1.0, \"#f0f921\"]], \"type\": \"heatmap\"}], \"heatmapgl\": [{\"colorbar\": {\"outlinewidth\": 0, \"ticks\": \"\"}, \"colorscale\": [[0.0, \"#0d0887\"], [0.1111111111111111, \"#46039f\"], [0.2222222222222222, \"#7201a8\"], [0.3333333333333333, \"#9c179e\"], [0.4444444444444444, \"#bd3786\"], [0.5555555555555556, \"#d8576b\"], [0.6666666666666666, \"#ed7953\"], [0.7777777777777778, \"#fb9f3a\"], [0.8888888888888888, \"#fdca26\"], [1.0, \"#f0f921\"]], \"type\": \"heatmapgl\"}], \"histogram\": [{\"marker\": {\"colorbar\": {\"outlinewidth\": 0, \"ticks\": \"\"}}, \"type\": \"histogram\"}], \"histogram2d\": [{\"colorbar\": {\"outlinewidth\": 0, \"ticks\": \"\"}, \"colorscale\": [[0.0, \"#0d0887\"], [0.1111111111111111, \"#46039f\"], [0.2222222222222222, \"#7201a8\"], [0.3333333333333333, \"#9c179e\"], [0.4444444444444444, \"#bd3786\"], [0.5555555555555556, \"#d8576b\"], [0.6666666666666666, \"#ed7953\"], [0.7777777777777778, \"#fb9f3a\"], [0.8888888888888888, \"#fdca26\"], [1.0, \"#f0f921\"]], \"type\": \"histogram2d\"}], \"histogram2dcontour\": [{\"colorbar\": {\"outlinewidth\": 0, \"ticks\": \"\"}, \"colorscale\": [[0.0, \"#0d0887\"], [0.1111111111111111, \"#46039f\"], [0.2222222222222222, \"#7201a8\"], [0.3333333333333333, \"#9c179e\"], [0.4444444444444444, \"#bd3786\"], [0.5555555555555556, \"#d8576b\"], [0.6666666666666666, \"#ed7953\"], [0.7777777777777778, \"#fb9f3a\"], [0.8888888888888888, \"#fdca26\"], [1.0, \"#f0f921\"]], \"type\": \"histogram2dcontour\"}], \"mesh3d\": [{\"colorbar\": {\"outlinewidth\": 0, \"ticks\": \"\"}, \"type\": \"mesh3d\"}], \"parcoords\": [{\"line\": {\"colorbar\": {\"outlinewidth\": 0, \"ticks\": \"\"}}, \"type\": \"parcoords\"}], \"pie\": [{\"automargin\": true, \"type\": \"pie\"}], \"scatter\": [{\"marker\": {\"colorbar\": {\"outlinewidth\": 0, \"ticks\": \"\"}}, \"type\": \"scatter\"}], \"scatter3d\": [{\"line\": {\"colorbar\": {\"outlinewidth\": 0, \"ticks\": \"\"}}, \"marker\": {\"colorbar\": {\"outlinewidth\": 0, \"ticks\": \"\"}}, \"type\": \"scatter3d\"}], \"scattercarpet\": [{\"marker\": {\"colorbar\": {\"outlinewidth\": 0, \"ticks\": \"\"}}, \"type\": \"scattercarpet\"}], \"scattergeo\": [{\"marker\": {\"colorbar\": {\"outlinewidth\": 0, \"ticks\": \"\"}}, \"type\": \"scattergeo\"}], \"scattergl\": [{\"marker\": {\"colorbar\": {\"outlinewidth\": 0, \"ticks\": \"\"}}, \"type\": \"scattergl\"}], \"scattermapbox\": [{\"marker\": {\"colorbar\": {\"outlinewidth\": 0, \"ticks\": \"\"}}, \"type\": \"scattermapbox\"}], \"scatterpolar\": [{\"marker\": {\"colorbar\": {\"outlinewidth\": 0, \"ticks\": \"\"}}, \"type\": \"scatterpolar\"}], \"scatterpolargl\": [{\"marker\": {\"colorbar\": {\"outlinewidth\": 0, \"ticks\": \"\"}}, \"type\": \"scatterpolargl\"}], \"scatterternary\": [{\"marker\": {\"colorbar\": {\"outlinewidth\": 0, \"ticks\": \"\"}}, \"type\": \"scatterternary\"}], \"surface\": [{\"colorbar\": {\"outlinewidth\": 0, \"ticks\": \"\"}, \"colorscale\": [[0.0, \"#0d0887\"], [0.1111111111111111, \"#46039f\"], [0.2222222222222222, \"#7201a8\"], [0.3333333333333333, \"#9c179e\"], [0.4444444444444444, \"#bd3786\"], [0.5555555555555556, \"#d8576b\"], [0.6666666666666666, \"#ed7953\"], [0.7777777777777778, \"#fb9f3a\"], [0.8888888888888888, \"#fdca26\"], [1.0, \"#f0f921\"]], \"type\": \"surface\"}], \"table\": [{\"cells\": {\"fill\": {\"color\": \"#EBF0F8\"}, \"line\": {\"color\": \"white\"}}, \"header\": {\"fill\": {\"color\": \"#C8D4E3\"}, \"line\": {\"color\": \"white\"}}, \"type\": \"table\"}]}, \"layout\": {\"annotationdefaults\": {\"arrowcolor\": \"#2a3f5f\", \"arrowhead\": 0, \"arrowwidth\": 1}, \"coloraxis\": {\"colorbar\": {\"outlinewidth\": 0, \"ticks\": \"\"}}, \"colorscale\": {\"diverging\": [[0, \"#8e0152\"], [0.1, \"#c51b7d\"], [0.2, \"#de77ae\"], [0.3, \"#f1b6da\"], [0.4, \"#fde0ef\"], [0.5, \"#f7f7f7\"], [0.6, \"#e6f5d0\"], [0.7, \"#b8e186\"], [0.8, \"#7fbc41\"], [0.9, \"#4d9221\"], [1, \"#276419\"]], \"sequential\": [[0.0, \"#0d0887\"], [0.1111111111111111, \"#46039f\"], [0.2222222222222222, \"#7201a8\"], [0.3333333333333333, \"#9c179e\"], [0.4444444444444444, \"#bd3786\"], [0.5555555555555556, \"#d8576b\"], [0.6666666666666666, \"#ed7953\"], [0.7777777777777778, \"#fb9f3a\"], [0.8888888888888888, \"#fdca26\"], [1.0, \"#f0f921\"]], \"sequentialminus\": [[0.0, \"#0d0887\"], [0.1111111111111111, \"#46039f\"], [0.2222222222222222, \"#7201a8\"], [0.3333333333333333, \"#9c179e\"], [0.4444444444444444, \"#bd3786\"], [0.5555555555555556, \"#d8576b\"], [0.6666666666666666, \"#ed7953\"], [0.7777777777777778, \"#fb9f3a\"], [0.8888888888888888, \"#fdca26\"], [1.0, \"#f0f921\"]]}, \"colorway\": [\"#636efa\", \"#EF553B\", \"#00cc96\", \"#ab63fa\", \"#FFA15A\", \"#19d3f3\", \"#FF6692\", \"#B6E880\", \"#FF97FF\", \"#FECB52\"], \"font\": {\"color\": \"#2a3f5f\"}, \"geo\": {\"bgcolor\": \"white\", \"lakecolor\": \"white\", \"landcolor\": \"#E5ECF6\", \"showlakes\": true, \"showland\": true, \"subunitcolor\": \"white\"}, \"hoverlabel\": {\"align\": \"left\"}, \"hovermode\": \"closest\", \"mapbox\": {\"style\": \"light\"}, \"paper_bgcolor\": \"white\", \"plot_bgcolor\": \"#E5ECF6\", \"polar\": {\"angularaxis\": {\"gridcolor\": \"white\", \"linecolor\": \"white\", \"ticks\": \"\"}, \"bgcolor\": \"#E5ECF6\", \"radialaxis\": {\"gridcolor\": \"white\", \"linecolor\": \"white\", \"ticks\": \"\"}}, \"scene\": {\"xaxis\": {\"backgroundcolor\": \"#E5ECF6\", \"gridcolor\": \"white\", \"gridwidth\": 2, \"linecolor\": \"white\", \"showbackground\": true, \"ticks\": \"\", \"zerolinecolor\": \"white\"}, \"yaxis\": {\"backgroundcolor\": \"#E5ECF6\", \"gridcolor\": \"white\", \"gridwidth\": 2, \"linecolor\": \"white\", \"showbackground\": true, \"ticks\": \"\", \"zerolinecolor\": \"white\"}, \"zaxis\": {\"backgroundcolor\": \"#E5ECF6\", \"gridcolor\": \"white\", \"gridwidth\": 2, \"linecolor\": \"white\", \"showbackground\": true, \"ticks\": \"\", \"zerolinecolor\": \"white\"}}, \"shapedefaults\": {\"line\": {\"color\": \"#2a3f5f\"}}, \"ternary\": {\"aaxis\": {\"gridcolor\": \"white\", \"linecolor\": \"white\", \"ticks\": \"\"}, \"baxis\": {\"gridcolor\": \"white\", \"linecolor\": \"white\", \"ticks\": \"\"}, \"bgcolor\": \"#E5ECF6\", \"caxis\": {\"gridcolor\": \"white\", \"linecolor\": \"white\", \"ticks\": \"\"}}, \"title\": {\"x\": 0.05}, \"xaxis\": {\"automargin\": true, \"gridcolor\": \"white\", \"linecolor\": \"white\", \"ticks\": \"\", \"title\": {\"standoff\": 15}, \"zerolinecolor\": \"white\", \"zerolinewidth\": 2}, \"yaxis\": {\"automargin\": true, \"gridcolor\": \"white\", \"linecolor\": \"white\", \"ticks\": \"\", \"title\": {\"standoff\": 15}, \"zerolinecolor\": \"white\", \"zerolinewidth\": 2}}}, \"xaxis\": {\"anchor\": \"y\", \"domain\": [0.0, 1.0], \"title\": {\"text\": \"x\"}}, \"yaxis\": {\"anchor\": \"x\", \"domain\": [0.0, 1.0], \"range\": [670, 900], \"title\": {\"text\": \"y\"}}},\n",
              "                        {\"responsive\": true}\n",
              "                    ).then(function(){\n",
              "                            \n",
              "var gd = document.getElementById('4d99f959-5489-4c21-8a17-0a5cab1ca78e');\n",
              "var x = new MutationObserver(function (mutations, observer) {{\n",
              "        var display = window.getComputedStyle(gd).display;\n",
              "        if (!display || display === 'none') {{\n",
              "            console.log([gd, 'removed!']);\n",
              "            Plotly.purge(gd);\n",
              "            observer.disconnect();\n",
              "        }}\n",
              "}});\n",
              "\n",
              "// Listen for the removal of the full notebook cells\n",
              "var notebookContainer = gd.closest('#notebook-container');\n",
              "if (notebookContainer) {{\n",
              "    x.observe(notebookContainer, {childList: true});\n",
              "}}\n",
              "\n",
              "// Listen for the clearing of the current output cell\n",
              "var outputEl = gd.closest('.output');\n",
              "if (outputEl) {{\n",
              "    x.observe(outputEl, {childList: true});\n",
              "}}\n",
              "\n",
              "                        })\n",
              "                };\n",
              "                \n",
              "            </script>\n",
              "        </div>\n",
              "</body>\n",
              "</html>"
            ]
          },
          "metadata": {
            "tags": []
          }
        }
      ]
    },
    {
      "cell_type": "code",
      "metadata": {
        "id": "HEtEpL8YV8ni",
        "colab_type": "code",
        "colab": {
          "base_uri": "https://localhost:8080/",
          "height": 170
        },
        "outputId": "c689f009-a29c-4bfa-e5c5-edb01eb32c21"
      },
      "source": [
        "# So this is the lowest going by that method (top n correlated features)\n",
        "features = ['bathrooms', 'bedrooms', 'pc1', 'num_features', 'doorman',\n",
        "            'laundry_in_unit', 'longitude', 'dining_room', 'fitness_center', \n",
        "            'dishwasher', 'elevator', 'interest_value', 'terrace', \n",
        "            'outdoor_space', 'balcony', 'swimming_pool', 'no_fee', 'roof_deck', \n",
        "            'garden_patio', 'hardwood_floors', 'high_speed_internet', \n",
        "            'wheelchair_access', 'new_construction']\n",
        "run_linear_regression(train, test, 'price', features)"
      ],
      "execution_count": 42,
      "outputs": [
        {
          "output_type": "stream",
          "text": [
            "Training scores:\n",
            "\tMean squared error: 1134402.10\n",
            "\tMean absolute error: 673.67\n",
            "\tR squared score: 0.63\n",
            "\n",
            "Testing scores:\n",
            "\tMean squared error: 1103024.60\n",
            "\tMean absolute error: 676.48\n",
            "\tR squared score: 0.65\n"
          ],
          "name": "stdout"
        }
      ]
    },
    {
      "cell_type": "code",
      "metadata": {
        "id": "Xi5nCF9DZNI9",
        "colab_type": "code",
        "colab": {
          "base_uri": "https://localhost:8080/",
          "height": 170
        },
        "outputId": "a42356ba-ebde-4597-e900-4278f8fdf449"
      },
      "source": [
        "# Best score I could find by removing some\n",
        "features = ['bathrooms', 'bedrooms', 'pc1', 'num_features', 'doorman',\n",
        "            'laundry_in_unit', 'longitude', 'fitness_center', \n",
        "            'dishwasher', 'elevator', 'interest_value', \n",
        "            'outdoor_space', 'roof_deck', 'new_construction',\n",
        "            'hardwood_floors', 'high_speed_internet']\n",
        "run_linear_regression(train, test, 'price', features)"
      ],
      "execution_count": 49,
      "outputs": [
        {
          "output_type": "stream",
          "text": [
            "Training scores:\n",
            "\tMean squared error: 1142036.59\n",
            "\tMean absolute error: 671.66\n",
            "\tR squared score: 0.63\n",
            "\n",
            "Testing scores:\n",
            "\tMean squared error: 1108863.25\n",
            "\tMean absolute error: 674.72\n",
            "\tR squared score: 0.64\n"
          ],
          "name": "stdout"
        }
      ]
    },
    {
      "cell_type": "code",
      "metadata": {
        "id": "W1dl0jEnbQjF",
        "colab_type": "code",
        "colab": {
          "base_uri": "https://localhost:8080/",
          "height": 170
        },
        "outputId": "8baeb265-35c0-4465-8971-1500af24cf3d"
      },
      "source": [
        "# Narrowed down to 9 features without increasing error too much\n",
        "features = ['bathrooms', 'bedrooms', 'doorman',\n",
        "            'laundry_in_unit', 'longitude',\n",
        "            'elevator', 'interest_value', \n",
        "            'hardwood_floors', 'high_speed_internet']\n",
        "run_linear_regression(train, test, 'price', features)"
      ],
      "execution_count": 64,
      "outputs": [
        {
          "output_type": "stream",
          "text": [
            "Training scores:\n",
            "\tMean squared error: 1148387.99\n",
            "\tMean absolute error: 674.73\n",
            "\tR squared score: 0.63\n",
            "\n",
            "Testing scores:\n",
            "\tMean squared error: 1118114.51\n",
            "\tMean absolute error: 678.19\n",
            "\tR squared score: 0.64\n"
          ],
          "name": "stdout"
        }
      ]
    }
  ]
}